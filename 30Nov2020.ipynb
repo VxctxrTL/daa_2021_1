{
  "nbformat": 4,
  "nbformat_minor": 0,
  "metadata": {
    "colab": {
      "name": "30Nov2020.ipynb",
      "provenance": [],
      "authorship_tag": "ABX9TyMFVMfiJ8p0Ee68hMKD1EzF",
      "include_colab_link": true
    },
    "kernelspec": {
      "name": "python3",
      "display_name": "Python 3"
    }
  },
  "cells": [
    {
      "cell_type": "markdown",
      "metadata": {
        "id": "view-in-github",
        "colab_type": "text"
      },
      "source": [
        "<a href=\"https://colab.research.google.com/github/VxctxrTL/daa_2021_1/blob/master/30Nov2020.ipynb\" target=\"_parent\"><img src=\"https://colab.research.google.com/assets/colab-badge.svg\" alt=\"Open In Colab\"/></a>"
      ]
    },
    {
      "cell_type": "code",
      "metadata": {
        "colab": {
          "base_uri": "https://localhost:8080/"
        },
        "id": "PCYutWPLn1BO",
        "outputId": "f4ac7246-3dc0-4bfa-ead0-046c4c9a5350"
      },
      "source": [
        "A = \"AELASESLALSALSALSALSALSALASLSLSLSLSALALALALASALSALLSALAS\"\n",
        "P = \"LAS\"\n",
        "N= len(A)\n",
        "M= len(P)\n",
        "def fuerza_bruta (A, P):\n",
        "  for i in range (N-M+1):\n",
        "    for j in range (M):\n",
        "      if A[i+j]!= P[j]:\n",
        "        break\n",
        "      else:\n",
        "        pass\n",
        "    if j+1 == M and A[i+j] == P[j]:\n",
        "      print (\"Encontrado en la posición: \", i)\n",
        "\n",
        "\n",
        "fuerza_bruta (A, P)\n",
        "\n"
      ],
      "execution_count": 4,
      "outputs": [
        {
          "output_type": "stream",
          "text": [
            "Encontrado en la posición:  2\n",
            "Encontrado en la posición:  24\n",
            "Encontrado en la posición:  42\n",
            "Encontrado en la posición:  53\n"
          ],
          "name": "stdout"
        }
      ]
    }
  ]
}