{
  "nbformat": 4,
  "nbformat_minor": 0,
  "metadata": {
    "colab": {
      "name": "Tarea5_22Oct.ipynb",
      "provenance": [],
      "authorship_tag": "ABX9TyMNBxHDkRqF/lzZgww8vLsc",
      "include_colab_link": true
    },
    "kernelspec": {
      "name": "python3",
      "display_name": "Python 3"
    }
  },
  "cells": [
    {
      "cell_type": "markdown",
      "metadata": {
        "id": "view-in-github",
        "colab_type": "text"
      },
      "source": [
        "<a href=\"https://colab.research.google.com/github/VxctxrTL/daa_2021_1/blob/master/Tarea5_22Oct.ipynb\" target=\"_parent\"><img src=\"https://colab.research.google.com/assets/colab-badge.svg\" alt=\"Open In Colab\"/></a>"
      ]
    },
    {
      "cell_type": "code",
      "metadata": {
        "id": "0a_2f24P1yqr",
        "outputId": "0f3d218b-1207-44eb-9db4-a84934cdbbd6",
        "colab": {
          "base_uri": "https://localhost:8080/",
          "height": 357
        }
      },
      "source": [
        "from time import time\n",
        "def ejemplo1 (n):\n",
        "  start_time = time()\n",
        "  c = n + 1\n",
        "  d = c * n\n",
        "  e = n * n\n",
        "  total = c + e - d\n",
        "  print (f\"total ={total}\")\n",
        "  elapsed_time = time() - start_time\n",
        "  print(\"Tiempo transcurrido: %0.10f segundos.\" % elapsed_time)\n",
        "for entrada in range (100, 1100, 100):\n",
        "  ejemplo1 (entrada)\n",
        "    \n"
      ],
      "execution_count": 5,
      "outputs": [
        {
          "output_type": "stream",
          "text": [
            "total =1\n",
            "Tiempo transcurrido: 0.0006077290 segundos.\n",
            "total =1\n",
            "Tiempo transcurrido: 0.0001268387 segundos.\n",
            "total =1\n",
            "Tiempo transcurrido: 0.0005981922 segundos.\n",
            "total =1\n",
            "Tiempo transcurrido: 0.0001833439 segundos.\n",
            "total =1\n",
            "Tiempo transcurrido: 0.0000169277 segundos.\n",
            "total =1\n",
            "Tiempo transcurrido: 0.0001695156 segundos.\n",
            "total =1\n",
            "Tiempo transcurrido: 0.0001223087 segundos.\n",
            "total =1\n",
            "Tiempo transcurrido: 0.0010106564 segundos.\n",
            "total =1\n",
            "Tiempo transcurrido: 0.0000255108 segundos.\n",
            "total =1\n",
            "Tiempo transcurrido: 0.0003027916 segundos.\n"
          ],
          "name": "stdout"
        }
      ]
    },
    {
      "cell_type": "code",
      "metadata": {
        "id": "IiGaG0TzEz6t",
        "outputId": "51563c61-b323-4086-a5cf-cbd9bcd4d836",
        "colab": {
          "base_uri": "https://localhost:8080/",
          "height": 187
        }
      },
      "source": [
        "from time import time\n",
        "def ejemplo2( n ):\n",
        "  start_time = time()\n",
        "  contador = 0\n",
        "  for i in range( n ) :\n",
        "      for j in range( n ) :\n",
        "          contador += 1\n",
        "  elapsed_time = time() - start_time\n",
        "  print(\"Tiempo transcurrido: %0.10f segundos.\" % elapsed_time)\n",
        "  return contador\n",
        "\n",
        "for entrada in range (100, 1100, 100):\n",
        "  ejemplo2(entrada)"
      ],
      "execution_count": 8,
      "outputs": [
        {
          "output_type": "stream",
          "text": [
            "Tiempo transcurrido: 0.0006797314 segundos.\n",
            "Tiempo transcurrido: 0.0030474663 segundos.\n",
            "Tiempo transcurrido: 0.0052924156 segundos.\n",
            "Tiempo transcurrido: 0.0085220337 segundos.\n",
            "Tiempo transcurrido: 0.0130009651 segundos.\n",
            "Tiempo transcurrido: 0.0190377235 segundos.\n",
            "Tiempo transcurrido: 0.0282797813 segundos.\n",
            "Tiempo transcurrido: 0.0341660976 segundos.\n",
            "Tiempo transcurrido: 0.0436205864 segundos.\n",
            "Tiempo transcurrido: 0.0545554161 segundos.\n"
          ],
          "name": "stdout"
        }
      ]
    },
    {
      "cell_type": "code",
      "metadata": {
        "id": "mHmz4jQzRvmR",
        "outputId": "02f5cd4b-517e-4bb4-dc00-fa1b62b9fd8b",
        "colab": {
          "base_uri": "https://localhost:8080/",
          "height": 187
        }
      },
      "source": [
        "from time import time\n",
        "def ejemplo3  (n):\n",
        "  start_time = time()\n",
        "  x = n*2\n",
        "  y= 0\n",
        "  for m in range (100):\n",
        "    y = x - n \n",
        "  elapsed_time = time() - start_time\n",
        "  print(\"Tiempo transcurrido: %0.10f segundos.\" % elapsed_time)\n",
        "  return y\n",
        "for entrada in range (100, 1100, 100):\n",
        "  ejemplo3 (entrada)"
      ],
      "execution_count": 10,
      "outputs": [
        {
          "output_type": "stream",
          "text": [
            "Tiempo transcurrido: 0.0000078678 segundos.\n",
            "Tiempo transcurrido: 0.0000085831 segundos.\n",
            "Tiempo transcurrido: 0.0000092983 segundos.\n",
            "Tiempo transcurrido: 0.0000095367 segundos.\n",
            "Tiempo transcurrido: 0.0000085831 segundos.\n",
            "Tiempo transcurrido: 0.0000088215 segundos.\n",
            "Tiempo transcurrido: 0.0000097752 segundos.\n",
            "Tiempo transcurrido: 0.0000090599 segundos.\n",
            "Tiempo transcurrido: 0.0000090599 segundos.\n",
            "Tiempo transcurrido: 0.0000088215 segundos.\n"
          ],
          "name": "stdout"
        }
      ]
    },
    {
      "cell_type": "code",
      "metadata": {
        "id": "STefm9i4S9Xz",
        "outputId": "d1f217d5-7188-4ed6-d210-4e9cd2ade42f",
        "colab": {
          "base_uri": "https://localhost:8080/",
          "height": 187
        }
      },
      "source": [
        "from time import time\n",
        "def ejemplo4( n ):\n",
        "  start_time = time()\n",
        "  x = 3 * 3.1416 + n\n",
        "  y = x + 3 * 3 - n\n",
        "  z = x + y\n",
        "  elapsed_time = time() - start_time\n",
        "  print(\"Tiempo transcurrido: %0.10f segundos.\" % elapsed_time)\n",
        "  return z\n",
        "\n",
        "for entrada in range (100, 1100, 100):\n",
        "  ejemplo4 (entrada)"
      ],
      "execution_count": 15,
      "outputs": [
        {
          "output_type": "stream",
          "text": [
            "Tiempo transcurrido: 0.0000011921 segundos.\n",
            "Tiempo transcurrido: 0.0000004768 segundos.\n",
            "Tiempo transcurrido: 0.0000002384 segundos.\n",
            "Tiempo transcurrido: 0.0000004768 segundos.\n",
            "Tiempo transcurrido: 0.0000004768 segundos.\n",
            "Tiempo transcurrido: 0.0000007153 segundos.\n",
            "Tiempo transcurrido: 0.0000004768 segundos.\n",
            "Tiempo transcurrido: 0.0000004768 segundos.\n",
            "Tiempo transcurrido: 0.0000002384 segundos.\n",
            "Tiempo transcurrido: 0.0000002384 segundos.\n"
          ],
          "name": "stdout"
        }
      ]
    },
    {
      "cell_type": "code",
      "metadata": {
        "id": "Iii4XXCGUO7-",
        "outputId": "a4244cb0-52b4-4105-cb51-b4a565095acd",
        "colab": {
          "base_uri": "https://localhost:8080/",
          "height": 187
        }
      },
      "source": [
        "from time import time\n",
        "def ejemplo5( x ):\n",
        "  start_time = time()\n",
        "  n = 10\n",
        "  for j in range( 0 , x , 1 ):\n",
        "    n = j + n\n",
        "  elapsed_time = time() - start_time\n",
        "  print(\"Tiempo transcurrido: %0.10f segundos.\" % elapsed_time)\n",
        "  return n\n",
        "\n",
        "for entrada in range (100, 1100, 100):\n",
        "  ejemplo5(entrada)"
      ],
      "execution_count": 17,
      "outputs": [
        {
          "output_type": "stream",
          "text": [
            "Tiempo transcurrido: 0.0000109673 segundos.\n",
            "Tiempo transcurrido: 0.0000159740 segundos.\n",
            "Tiempo transcurrido: 0.0000247955 segundos.\n",
            "Tiempo transcurrido: 0.0000333786 segundos.\n",
            "Tiempo transcurrido: 0.0000455379 segundos.\n",
            "Tiempo transcurrido: 0.0000467300 segundos.\n",
            "Tiempo transcurrido: 0.0000596046 segundos.\n",
            "Tiempo transcurrido: 0.0000796318 segundos.\n",
            "Tiempo transcurrido: 0.0000915527 segundos.\n",
            "Tiempo transcurrido: 0.0000829697 segundos.\n"
          ],
          "name": "stdout"
        }
      ]
    },
    {
      "cell_type": "code",
      "metadata": {
        "id": "AwXCVqbxVh4F",
        "outputId": "99a3e003-082a-4cf6-8999-a4a31f9b2439",
        "colab": {
          "base_uri": "https://localhost:8080/",
          "height": 187
        }
      },
      "source": [
        "from time import time\n",
        "def ejemplo6( n ):\n",
        "    start_time = time()\n",
        "    data=[[[1 for x in range(n)] for x in range(n)] \n",
        "          for x in range(n)]\n",
        "    suma = 0\n",
        "    for d in range(n):\n",
        "        for r in range(n):\n",
        "            for c in range(n):\n",
        "                suma += data[d][r][c]\n",
        "    elapsed_time = time() - start_time\n",
        "    print(\"Tiempo transcurrido: %0.10f segundos.\" % elapsed_time)\n",
        "    return suma\n",
        "for entrada in range (100 ,1100, 100):\n",
        "  ejemplo6 (entrada)"
      ],
      "execution_count": 18,
      "outputs": [
        {
          "output_type": "stream",
          "text": [
            "Tiempo transcurrido: 0.1420514584 segundos.\n",
            "Tiempo transcurrido: 1.0286226273 segundos.\n",
            "Tiempo transcurrido: 3.6838352680 segundos.\n",
            "Tiempo transcurrido: 9.3631157875 segundos.\n",
            "Tiempo transcurrido: 17.7616627216 segundos.\n",
            "Tiempo transcurrido: 32.2538902760 segundos.\n",
            "Tiempo transcurrido: 52.7276632786 segundos.\n",
            "Tiempo transcurrido: 78.2924017906 segundos.\n",
            "Tiempo transcurrido: 111.5715727806 segundos.\n",
            "Tiempo transcurrido: 155.8134391308 segundos.\n"
          ],
          "name": "stdout"
        }
      ]
    }
  ]
}