{
  "nbformat": 4,
  "nbformat_minor": 0,
  "metadata": {
    "colab": {
      "name": "Tarea6.ipynb",
      "provenance": [],
      "authorship_tag": "ABX9TyMmVaHAu8PmVTydFMQ+DBWV",
      "include_colab_link": true
    },
    "kernelspec": {
      "name": "python3",
      "display_name": "Python 3"
    }
  },
  "cells": [
    {
      "cell_type": "markdown",
      "metadata": {
        "id": "view-in-github",
        "colab_type": "text"
      },
      "source": [
        "<a href=\"https://colab.research.google.com/github/VxctxrTL/daa_2021_1/blob/master/Tarea6.ipynb\" target=\"_parent\"><img src=\"https://colab.research.google.com/assets/colab-badge.svg\" alt=\"Open In Colab\"/></a>"
      ]
    },
    {
      "cell_type": "code",
      "metadata": {
        "colab": {
          "base_uri": "https://localhost:8080/"
        },
        "id": "td4IbZGBssfy",
        "outputId": "ed9cbfa4-833c-4650-b941-723785b94d78"
      },
      "source": [
        "cadenaPalabras= \"el lema que anima a la universidad nacional por mi raza hablara el espiritu revela la vocacion humanistica con la que fue concebida el autor de esta celebre frase jose vasconcelos, asumio la rectoria en 1920 en una epoca en que las esperanzas de la revolucion aun estaban vivas habia una gran fe en la patria y el animo redentor se extendia en el ambiente.\"\n",
        "\n",
        "\n",
        "listaPalabras = cadenaPalabras.split()\n",
        "\n",
        "frecuenciaPalab = []\n",
        "\n",
        "for w in listaPalabras:\n",
        "    frecuenciaPalab.append(listaPalabras.count(w))\n",
        "\n",
        "\n",
        "print (\"Cadena\\n\" + (cadenaPalabras) + \"\\n\")\n",
        "print (\"Listas\\n\" + str(listaPalabras) + \"\\n\")\n",
        "print (\"Frecuencias\\n\" + str (frecuenciaPalab) + \"\\n\")\n",
        "print (\"Pares\\n\" + str(list(zip(listaPalabras, frecuenciaPalab))))\n"
      ],
      "execution_count": 1,
      "outputs": [
        {
          "output_type": "stream",
          "text": [
            "Cadena\n",
            "el lema que anima a la universidad nacional por mi raza hablara el espiritu revela la vocacion humanistica con la que fue concebida el autor de esta celebre frase jose vasconcelos, asumio la rectoria en 1920 en una epoca en que las esperanzas de la revolucion aun estaban vivas habia una gran fe en la patria y el animo redentor se extendia en el ambiente.\n",
            "\n",
            "Listas\n",
            "['el', 'lema', 'que', 'anima', 'a', 'la', 'universidad', 'nacional', 'por', 'mi', 'raza', 'hablara', 'el', 'espiritu', 'revela', 'la', 'vocacion', 'humanistica', 'con', 'la', 'que', 'fue', 'concebida', 'el', 'autor', 'de', 'esta', 'celebre', 'frase', 'jose', 'vasconcelos,', 'asumio', 'la', 'rectoria', 'en', '1920', 'en', 'una', 'epoca', 'en', 'que', 'las', 'esperanzas', 'de', 'la', 'revolucion', 'aun', 'estaban', 'vivas', 'habia', 'una', 'gran', 'fe', 'en', 'la', 'patria', 'y', 'el', 'animo', 'redentor', 'se', 'extendia', 'en', 'el', 'ambiente.']\n",
            "\n",
            "Frecuencias\n",
            "[5, 1, 3, 1, 1, 6, 1, 1, 1, 1, 1, 1, 5, 1, 1, 6, 1, 1, 1, 6, 3, 1, 1, 5, 1, 2, 1, 1, 1, 1, 1, 1, 6, 1, 5, 1, 5, 2, 1, 5, 3, 1, 1, 2, 6, 1, 1, 1, 1, 1, 2, 1, 1, 5, 6, 1, 1, 5, 1, 1, 1, 1, 5, 5, 1]\n",
            "\n",
            "Pares\n",
            "[('el', 5), ('lema', 1), ('que', 3), ('anima', 1), ('a', 1), ('la', 6), ('universidad', 1), ('nacional', 1), ('por', 1), ('mi', 1), ('raza', 1), ('hablara', 1), ('el', 5), ('espiritu', 1), ('revela', 1), ('la', 6), ('vocacion', 1), ('humanistica', 1), ('con', 1), ('la', 6), ('que', 3), ('fue', 1), ('concebida', 1), ('el', 5), ('autor', 1), ('de', 2), ('esta', 1), ('celebre', 1), ('frase', 1), ('jose', 1), ('vasconcelos,', 1), ('asumio', 1), ('la', 6), ('rectoria', 1), ('en', 5), ('1920', 1), ('en', 5), ('una', 2), ('epoca', 1), ('en', 5), ('que', 3), ('las', 1), ('esperanzas', 1), ('de', 2), ('la', 6), ('revolucion', 1), ('aun', 1), ('estaban', 1), ('vivas', 1), ('habia', 1), ('una', 2), ('gran', 1), ('fe', 1), ('en', 5), ('la', 6), ('patria', 1), ('y', 1), ('el', 5), ('animo', 1), ('redentor', 1), ('se', 1), ('extendia', 1), ('en', 5), ('el', 5), ('ambiente.', 1)]\n"
          ],
          "name": "stdout"
        }
      ]
    }
  ]
}