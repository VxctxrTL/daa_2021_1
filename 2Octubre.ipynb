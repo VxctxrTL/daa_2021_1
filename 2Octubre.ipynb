{
  "nbformat": 4,
  "nbformat_minor": 0,
  "metadata": {
    "colab": {
      "name": "Untitled1.ipynb",
      "provenance": [],
      "toc_visible": true,
      "authorship_tag": "ABX9TyMLpNk0kY8LU+FZ7rSQsuu0",
      "include_colab_link": true
    },
    "kernelspec": {
      "name": "python3",
      "display_name": "Python 3"
    }
  },
  "cells": [
    {
      "cell_type": "markdown",
      "metadata": {
        "id": "view-in-github",
        "colab_type": "text"
      },
      "source": [
        "<a href=\"https://colab.research.google.com/github/VxctxrTL/daa_2021_1/blob/master/2Octubre.ipynb\" target=\"_parent\"><img src=\"https://colab.research.google.com/assets/colab-badge.svg\" alt=\"Open In Colab\"/></a>"
      ]
    },
    {
      "cell_type": "markdown",
      "metadata": {
        "id": "tvM_-c0glmGc"
      },
      "source": [
        "#Meteorología en México\n",
        "En Sistema meteorológico nacional lleva el registro de la lluvias desde el año 1985 y lo pone a disposición de la población por medio de la pagina datos.gob.mx.\n",
        "\n",
        "En la siguiente liga se encuentran 2 archivos separados por comas CSV correspondientes a los registros de lluvias mensuales y anuales de los años 2017 y 2018. En los columnas se encuentran 13, correspondientes al promedio mensual y el promedio anual. En los renglones se encuentran 33, correspondientes a cada uno de los 32 estados y a nivel nacional.\n",
        "\n",
        "https://drive.google.com/file/d/1lamkxgq2AsXRu81Y4JTNXLVld4og7nxt/view?usp=sharing\n",
        "\n",
        "##Planteamiento del problema\n",
        "Diseñar un algoritmo y programarlo para que:\n",
        "\n",
        "Solicite por teclado el año, el estado y el mes, en base a esa información:\n",
        "muestre en pantalla el promedio de ese mes en ese estado en el año seleccionado.\n",
        "muestre en pantalla el promedio anual del estado seleccionado.\n",
        "muestre la suma de los 12 meses de ese estado en el año seleccionado.\n",
        "Busque el mes que mas llovió en todos los estados durante esos dos años. Imprimir año, estado y mes.\n",
        "Busque el mes que menos llovió en los dos. Imprimir año, estado y mes."
      ]
    },
    {
      "cell_type": "code",
      "metadata": {
        "id": "M726LwGSlzh-",
        "outputId": "8977f6aa-748f-42a9-a622-6e10fd33d9f6",
        "colab": {
          "base_uri": "https://localhost:8080/",
          "height": 34
        }
      },
      "source": [
        "#solución\n",
        "\n",
        "archivo = open ('2017Precip.csv' , 'rt')\n",
        "archivo2 = open ('2018Precip.csv', 'rt')\n",
        "\n",
        "busqueda = (input('Ingrese la fehca y el mes deseado: '))\n",
        "nums = archivo.readlines()\n",
        "nums2 = archivo2.readlines()\n",
        "n= nums.split(',')\n",
        "\n",
        "num = archivo.readlines()\n",
        "promedio = 0\n",
        "for i in num:\n",
        "  a = float (i)\n",
        "  promedio= promedio +a\n",
        "  pr = promedio/float(len(num))\n",
        "\n",
        "\n",
        "\n",
        "\n",
        "\n"
      ],
      "execution_count": 25,
      "outputs": [
        {
          "output_type": "stream",
          "text": [
            "Ingrese el año deseado entre 2017 y 2018: 2017\n"
          ],
          "name": "stdout"
        }
      ]
    }
  ]
}