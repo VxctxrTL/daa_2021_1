{
  "nbformat": 4,
  "nbformat_minor": 0,
  "metadata": {
    "colab": {
      "name": "Untitled2.ipynb",
      "provenance": [],
      "authorship_tag": "ABX9TyPA/2y7opRO/ygMhSq+59f3",
      "include_colab_link": true
    },
    "kernelspec": {
      "name": "python3",
      "display_name": "Python 3"
    }
  },
  "cells": [
    {
      "cell_type": "markdown",
      "metadata": {
        "id": "view-in-github",
        "colab_type": "text"
      },
      "source": [
        "<a href=\"https://colab.research.google.com/github/VxctxrTL/daa_2021_1/blob/master/Tarea10.ipynb\" target=\"_parent\"><img src=\"https://colab.research.google.com/assets/colab-badge.svg\" alt=\"Open In Colab\"/></a>"
      ]
    },
    {
      "cell_type": "code",
      "metadata": {
        "id": "gUEyP4BoUDX9"
      },
      "source": [
        "class ArbolBinarioBusqueda:\r\n",
        "  def __init__ (self):\r\n",
        "    self.raiz = None\r\n",
        "    self.tamaño = 0 \r\n",
        "  \r\n",
        "  def longitud (self):\r\n",
        "    return self.tamaño\r\n",
        "\r\n",
        "  def __len__ (self):\r\n",
        "    return self.tamaño\r\n",
        "\r\n",
        "  def __iter__(self):\r\n",
        "    return self.raiz.__iter__()\r\n",
        "\r\n"
      ],
      "execution_count": 1,
      "outputs": []
    },
    {
      "cell_type": "code",
      "metadata": {
        "id": "dsM21hLvU3Wr"
      },
      "source": [
        "class NodoArbol:\r\n",
        "    def __init__( self , dato ,  hijo_izq=None , hijo_der=None):\r\n",
        "        self.dato = dato\r\n",
        "        self.left = hijo_izq\r\n",
        "        self.right = hijo_der\r\n",
        "  \r\n",
        "    "
      ],
      "execution_count": 8,
      "outputs": []
    },
    {
      "cell_type": "code",
      "metadata": {
        "id": "p4S2dUszWRzs"
      },
      "source": [
        "class BinarySearchTree:\r\n",
        "  def __init__(self):\r\n",
        "    self.__root = none\r\n",
        "  \r\n",
        "  def insert (self, value):\r\n",
        "    if self.__root == None:\r\n",
        "      self.__root = NodoArbol (value, None, None)\r\n",
        "    else:\r\n",
        "      self.__inset_nodo__(self.__root, value)\r\n",
        "  \r\n",
        "  def __insert_nodo__(self, nodo , value  ):\r\n",
        "    if nodo.dato == value:\r\n",
        "      pass \r\n",
        "    elif value < nodo.dato:\r\n",
        "      if nodo.left == None:\r\n",
        "        nodo.left = NodoArbol (value, None, None)\r\n",
        "      else:\r\n",
        "        self.__inset_nodo(nodo.left, value)\r\n",
        "    else:\r\n",
        "      if nodo.right == None:\r\n",
        "        nodo.right = NodoArbol (value, None, None)\r\n",
        "\r\n",
        "      else:\r\n",
        "        self.__inset_nodo(nodo.right, value)\r\n",
        "  \r\n",
        "  def obtener (self, clave):\r\n",
        "    if self.root:\r\n",
        "      res = self._obtener(clave, self.raiz)\r\n",
        "    if res:\r\n",
        "      return res.cargaUtil\r\n",
        "    else: \r\n",
        "      return None\r\n",
        "    elif nodoActual.clave == clave:\r\n",
        "      return nodoActual\r\n",
        "    elif clave < nodoActual.clave:\r\n",
        "      return self._obtener (clave, nodoActual.hijoIzquierdo)\r\n",
        "    else:\r\n",
        "      return self._obtener(clave, nodoActual.hijoDerecho)\r\n",
        "\r\n",
        "  def __getitem__ (self, clave):\r\n",
        "    return self.obtener(clave)\r\n",
        "\r\n",
        "  def __contains__ (self, clave):\r\n",
        "    if self._obtener(clave, self.root):\r\n",
        "      return True\r\n",
        "    else: return False"
      ],
      "execution_count": 10,
      "outputs": []
    }
  ]
}