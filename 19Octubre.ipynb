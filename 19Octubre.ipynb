{
  "nbformat": 4,
  "nbformat_minor": 0,
  "metadata": {
    "colab": {
      "name": "19Octubre.ipynb",
      "provenance": [],
      "authorship_tag": "ABX9TyPER0xsLrgHKje1a4SHoYZV",
      "include_colab_link": true
    },
    "kernelspec": {
      "name": "python3",
      "display_name": "Python 3"
    }
  },
  "cells": [
    {
      "cell_type": "markdown",
      "metadata": {
        "id": "view-in-github",
        "colab_type": "text"
      },
      "source": [
        "<a href=\"https://colab.research.google.com/github/VxctxrTL/daa_2021_1/blob/master/19Octubre.ipynb\" target=\"_parent\"><img src=\"https://colab.research.google.com/assets/colab-badge.svg\" alt=\"Open In Colab\"/></a>"
      ]
    },
    {
      "cell_type": "code",
      "metadata": {
        "id": "iFpBLl74MrqE",
        "outputId": "3b2e7b11-6565-42d5-e52e-f24e07fb136d",
        "colab": {
          "base_uri": "https://localhost:8080/",
          "height": 272
        }
      },
      "source": [
        "a2d = [[3, 2, 1], [6, 4, 8], [7,4,2]]\n",
        "n = 3\n",
        "print (a2d)\n",
        "\n",
        "\n",
        "total = 0 #1\n",
        "print (\"Nivel 1 \")\n",
        "for ren in range (n):\n",
        "  sumaRenglon = 0\n",
        "  print (\"Nivel 2\")\n",
        "  for col in range (n):\n",
        "    sumaRenglon += a2d[ren][col]\n",
        "    total += a2d[ren][col]\n",
        "    print ('Nivel 3')\n",
        "\n",
        "print (total)"
      ],
      "execution_count": 6,
      "outputs": [
        {
          "output_type": "stream",
          "text": [
            "[[3, 2, 1], [6, 4, 8], [7, 4, 2]]\n",
            "Nivel 1 \n",
            "Nivel 2\n",
            "Nivel 3\n",
            "Nivel 3\n",
            "Nivel 3\n",
            "Nivel 2\n",
            "Nivel 3\n",
            "Nivel 3\n",
            "Nivel 3\n",
            "Nivel 2\n",
            "Nivel 3\n",
            "Nivel 3\n",
            "Nivel 3\n",
            "37\n"
          ],
          "name": "stdout"
        }
      ]
    }
  ]
}