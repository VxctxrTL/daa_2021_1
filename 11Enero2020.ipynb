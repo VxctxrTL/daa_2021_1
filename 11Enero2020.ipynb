{
  "nbformat": 4,
  "nbformat_minor": 0,
  "metadata": {
    "colab": {
      "name": "11Enero2020.ipynb",
      "provenance": [],
      "authorship_tag": "ABX9TyN1hbgOreO/W9XejjG3wFuj",
      "include_colab_link": true
    },
    "kernelspec": {
      "name": "python3",
      "display_name": "Python 3"
    }
  },
  "cells": [
    {
      "cell_type": "markdown",
      "metadata": {
        "id": "view-in-github",
        "colab_type": "text"
      },
      "source": [
        "<a href=\"https://colab.research.google.com/github/VxctxrTL/daa_2021_1/blob/master/11Enero2020.ipynb\" target=\"_parent\"><img src=\"https://colab.research.google.com/assets/colab-badge.svg\" alt=\"Open In Colab\"/></a>"
      ]
    },
    {
      "cell_type": "code",
      "metadata": {
        "id": "Mwmyy0Rs7pXH"
      },
      "source": [
        "class NodoArbol:\r\n",
        "  def __init__ (self, value, left=None, right=None):\r\n",
        "    self.data = value \r\n",
        "    self.left= left \r\n",
        "    self.right = right"
      ],
      "execution_count": 8,
      "outputs": []
    },
    {
      "cell_type": "code",
      "metadata": {
        "id": "KqRhsNVm8o4S"
      },
      "source": [
        "arbol= NodoArbol (\"R\", NodoArbol (\"C\"), NodoArbol(\"H\"))"
      ],
      "execution_count": 2,
      "outputs": []
    },
    {
      "cell_type": "code",
      "metadata": {
        "id": "cNl31Azv9t2E"
      },
      "source": [
        "nodo1= NodoArbol  (\"C\")\r\n",
        "nodo2= NodoArbol (\"H\")\r\n",
        "arbol_v2 = NodoArbol (\"R\", nodo1, nodo2) "
      ],
      "execution_count": 5,
      "outputs": []
    },
    {
      "cell_type": "code",
      "metadata": {
        "colab": {
          "base_uri": "https://localhost:8080/"
        },
        "id": "0BLBSvS8-Lh7",
        "outputId": "bd41f6d9-d0a7-4f7e-ceb2-485faf0871db"
      },
      "source": [
        "print (arbol.right.data)\r\n",
        "print (arbol_v2.right.data)\r\n"
      ],
      "execution_count": 6,
      "outputs": [
        {
          "output_type": "stream",
          "text": [
            "H\n",
            "H\n"
          ],
          "name": "stdout"
        }
      ]
    },
    {
      "cell_type": "code",
      "metadata": {
        "colab": {
          "base_uri": "https://localhost:8080/"
        },
        "id": "czmEcqU_-3qU",
        "outputId": "3bb54935-39ea-437e-b040-08219ec525c6"
      },
      "source": [
        "arbol2 = NodoArbol (4, NodoArbol(3, NodoArbol(2, NodoArbol(2))), NodoArbol(5, None, None))\r\n",
        "print (arbol2.left.left.left.data)"
      ],
      "execution_count": 7,
      "outputs": [
        {
          "output_type": "stream",
          "text": [
            "2\n"
          ],
          "name": "stdout"
        }
      ]
    },
    {
      "cell_type": "code",
      "metadata": {
        "colab": {
          "base_uri": "https://localhost:8080/"
        },
        "id": "ouYrgvgkEN5x",
        "outputId": "57f1c1d5-f926-4848-a971-01fb63e217f1"
      },
      "source": [
        "aux= arbol2\r\n",
        "while aux.left != None:\r\n",
        "  aux = aux.left \r\n",
        "\r\n",
        "print (aux.data)"
      ],
      "execution_count": 9,
      "outputs": [
        {
          "output_type": "stream",
          "text": [
            "2\n"
          ],
          "name": "stdout"
        }
      ]
    },
    {
      "cell_type": "code",
      "metadata": {
        "colab": {
          "base_uri": "https://localhost:8080/"
        },
        "id": "9ixhtdnGEnkG",
        "outputId": "6766aec6-220c-4f53-ad4c-f051e47efdc6"
      },
      "source": [
        "arbol3 = NodoArbol (\"Santi\", None, NodoArbol(\"Jesus\",NodoArbol (\"Pedro\",None, NodoArbol(\"Diana\")),  None))\r\n",
        "print (arbol3.right.left.right.data)"
      ],
      "execution_count": 11,
      "outputs": [
        {
          "output_type": "stream",
          "text": [
            "Diana\n"
          ],
          "name": "stdout"
        }
      ]
    },
    {
      "cell_type": "code",
      "metadata": {
        "id": "cC-2sa3dFTTP"
      },
      "source": [
        ""
      ],
      "execution_count": null,
      "outputs": []
    }
  ]
}