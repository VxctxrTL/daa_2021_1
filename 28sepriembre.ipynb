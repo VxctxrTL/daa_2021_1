{
  "nbformat": 4,
  "nbformat_minor": 0,
  "metadata": {
    "colab": {
      "name": "28sepriembre.ipynb",
      "provenance": [],
      "toc_visible": true,
      "authorship_tag": "ABX9TyMX9ATYuP+UwlodqPW5d6r/",
      "include_colab_link": true
    },
    "kernelspec": {
      "name": "python3",
      "display_name": "Python 3"
    }
  },
  "cells": [
    {
      "cell_type": "markdown",
      "metadata": {
        "id": "view-in-github",
        "colab_type": "text"
      },
      "source": [
        "<a href=\"https://colab.research.google.com/github/VxctxrTL/daa_2021_1/blob/master/28sepriembre.ipynb\" target=\"_parent\"><img src=\"https://colab.research.google.com/assets/colab-badge.svg\" alt=\"Open In Colab\"/></a>"
      ]
    },
    {
      "cell_type": "code",
      "metadata": {
        "id": "otM6UEtgCeAN"
      },
      "source": [
        ""
      ],
      "execution_count": null,
      "outputs": []
    },
    {
      "cell_type": "markdown",
      "metadata": {
        "id": "UW2dC1CPEJ3j"
      },
      "source": [
        "# Sección 1"
      ]
    },
    {
      "cell_type": "markdown",
      "metadata": {
        "id": "N_4OZg39EMZ6"
      },
      "source": [
        "En este archivo aprenderemos a programar en Python con la herramienta de Google Colab.reserch t\n",
        "\n",
        "Tambien aprenderemos a guardar nuestros cambios a nuestro repositorio github.com"
      ]
    },
    {
      "cell_type": "markdown",
      "metadata": {
        "id": "ah8bHpxcEQAc"
      },
      "source": [
        "## Codigo ejemplo \n",
        "**negritas** _Italica_\n",
        "\n",
        "`\n",
        "edad = 10 print(edad)\n",
        "`"
      ]
    },
    {
      "cell_type": "markdown",
      "metadata": {
        "id": "ceRrKiICFb1z"
      },
      "source": [
        ""
      ]
    },
    {
      "cell_type": "code",
      "metadata": {
        "id": "ZeYmrDoIGigR",
        "outputId": "6ac9478d-a72b-405a-941a-f71985ad4c15",
        "colab": {
          "base_uri": "https://localhost:8080/",
          "height": 34
        }
      },
      "source": [
        "frutas = []\n",
        "frutas.append('Manzana')\n",
        "frutas.append('Piña')\n",
        "frutas.append('Kiwi')\n",
        "print (frutas)"
      ],
      "execution_count": 2,
      "outputs": [
        {
          "output_type": "stream",
          "text": [
            "['Manzana', 'Piña', 'Kiwi']\n"
          ],
          "name": "stdout"
        }
      ]
    },
    {
      "cell_type": "code",
      "metadata": {
        "id": "x5W7lLZQHq_z"
      },
      "source": [
        "archivo = open('prueba_daa.txt','wt')\n",
        "archivo.write('Hola Mundo Jupyter')\n",
        "archivo.close ()"
      ],
      "execution_count": 5,
      "outputs": []
    }
  ]
}