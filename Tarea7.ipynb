{
  "nbformat": 4,
  "nbformat_minor": 0,
  "metadata": {
    "colab": {
      "name": "Tarea7.ipynb",
      "provenance": [],
      "authorship_tag": "ABX9TyO35aLJBFb74KATHolekT9W",
      "include_colab_link": true
    },
    "kernelspec": {
      "name": "python3",
      "display_name": "Python 3"
    }
  },
  "cells": [
    {
      "cell_type": "markdown",
      "metadata": {
        "id": "view-in-github",
        "colab_type": "text"
      },
      "source": [
        "<a href=\"https://colab.research.google.com/github/VxctxrTL/daa_2021_1/blob/master/Tarea7.ipynb\" target=\"_parent\"><img src=\"https://colab.research.google.com/assets/colab-badge.svg\" alt=\"Open In Colab\"/></a>"
      ]
    },
    {
      "cell_type": "code",
      "metadata": {
        "colab": {
          "base_uri": "https://localhost:8080/"
        },
        "id": "v1U8w4HGzHB7",
        "outputId": "0ab664a1-50c8-43e8-daff-9fc82fecdbcf"
      },
      "source": [
        "def sumalista(listaNumeros):\n",
        "   if len(listaNumeros) == 1:\n",
        "        return listaNumeros[0]\n",
        "   else:\n",
        "        return listaNumeros[0] + sumalista(listaNumeros[1:])\n",
        "\n",
        "print(sumalista([6,24,104,9,15]))\n"
      ],
      "execution_count": 3,
      "outputs": [
        {
          "output_type": "stream",
          "text": [
            "158\n"
          ],
          "name": "stdout"
        }
      ]
    },
    {
      "cell_type": "code",
      "metadata": {
        "colab": {
          "base_uri": "https://localhost:8080/"
        },
        "id": "mApJLDP092PX",
        "outputId": "7375b352-2072-4996-f7be-0e6962861272"
      },
      "source": [
        "def cuentaReg (x):\n",
        "  if x > 0:\n",
        "    print (x)\n",
        "    cuentaReg(x-1)\n",
        "  else:\n",
        "    print (\"Fin de la cuenta regresiva\")\n",
        "\n",
        "cuentaReg(3)"
      ],
      "execution_count": 2,
      "outputs": [
        {
          "output_type": "stream",
          "text": [
            "3\n",
            "2\n",
            "1\n",
            "Fin de la cuenta regresiva\n"
          ],
          "name": "stdout"
        }
      ]
    },
    {
      "cell_type": "code",
      "metadata": {
        "id": "4J-T0cx7aSi4"
      },
      "source": [
        "class adtCola:\n",
        "  def __init__ (self):\n",
        "    self.items = []\n",
        "  def pop (self):\n",
        "    try:\n",
        "      return self.items.pop(0)\n",
        "    except:\n",
        "      raise ValueError (\"La cola esta vacia\")\n",
        "  \n",
        "  def push (self, x):\n",
        "    self.items.append(x)\n"
      ],
      "execution_count": null,
      "outputs": []
    }
  ]
}