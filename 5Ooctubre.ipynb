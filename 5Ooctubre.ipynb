{
  "nbformat": 4,
  "nbformat_minor": 0,
  "metadata": {
    "colab": {
      "name": "Untitled2.ipynb",
      "provenance": [],
      "authorship_tag": "ABX9TyPyGmUY4ayMJIZj0z549e2H",
      "include_colab_link": true
    },
    "kernelspec": {
      "name": "python3",
      "display_name": "Python 3"
    }
  },
  "cells": [
    {
      "cell_type": "markdown",
      "metadata": {
        "id": "view-in-github",
        "colab_type": "text"
      },
      "source": [
        "<a href=\"https://colab.research.google.com/github/VxctxrTL/daa_2021_1/blob/master/5Ooctubre.ipynb\" target=\"_parent\"><img src=\"https://colab.research.google.com/assets/colab-badge.svg\" alt=\"Open In Colab\"/></a>"
      ]
    },
    {
      "cell_type": "code",
      "metadata": {
        "id": "fFdo3vkO_Y1i"
      },
      "source": [
        ""
      ],
      "execution_count": null,
      "outputs": []
    },
    {
      "cell_type": "code",
      "metadata": {
        "id": "iNEKOvWrCkEE"
      },
      "source": [
        "class Stack:\n",
        "  def __init__ (self):\n",
        "    self.__datos = []\n",
        "  \n",
        "  def is_empty (self) :\n",
        "    return len(self.__datos) == 0\n",
        "\n",
        "  def get_top (self):\n",
        "    return self.__datos[-1]\n",
        "\n",
        "  def pop (self):\n",
        "    return self.__datos.pop()\n",
        "\n",
        "  def push (self , valor):\n",
        "    self.__datos.append(valor)\n",
        "\n",
        "  def get_length (self):\n",
        "    return len(self.__datos)\n",
        "\n",
        "  def to_string (self):\n",
        "    for ele in self.__datos:\n",
        "      print (\"-----------------\")\n",
        "      print (f\" (ele) \")\n",
        "      print (\"-----------------\\n\")\n",
        "\n"
      ],
      "execution_count": 16,
      "outputs": []
    },
    {
      "cell_type": "code",
      "metadata": {
        "id": "dPR_R9n2FQoV",
        "outputId": "41cba44c-ec61-4e33-e260-44cc719acc1f",
        "colab": {
          "base_uri": "https://localhost:8080/",
          "height": 1000
        }
      },
      "source": [
        "pila1 = Stack()\n",
        "pila1.push (10)\n",
        "pila1.push (20)\n",
        "pila1.push (1)\n",
        "pila1.push (393)\n",
        "pila1.push (103)\n",
        "pila1.to_string() \n",
        "\n",
        "sacado = pila1.pop()\n",
        "print(sacado)\n",
        "pila1.to_string()\n",
        "\n",
        "pila1.push(444)\n",
        "pila1.push(233)\n",
        "pila1.to_string\n",
        "\n",
        "print(f\"El elemento en el tope es:{ pila1.get_top() } \")\n",
        "pila1.to_string()\n",
        "print(f\"La pila tiene {pila1.get_length()} elementos\")\n",
        "print(f\"¿La pila esta vacía?: { pila1.is_empty() } \")\n"
      ],
      "execution_count": 19,
      "outputs": [
        {
          "output_type": "stream",
          "text": [
            "-----------------\n",
            " (ele) \n",
            "-----------------\n",
            "\n",
            "-----------------\n",
            " (ele) \n",
            "-----------------\n",
            "\n",
            "-----------------\n",
            " (ele) \n",
            "-----------------\n",
            "\n",
            "-----------------\n",
            " (ele) \n",
            "-----------------\n",
            "\n",
            "-----------------\n",
            " (ele) \n",
            "-----------------\n",
            "\n",
            "103\n",
            "-----------------\n",
            " (ele) \n",
            "-----------------\n",
            "\n",
            "-----------------\n",
            " (ele) \n",
            "-----------------\n",
            "\n",
            "-----------------\n",
            " (ele) \n",
            "-----------------\n",
            "\n",
            "-----------------\n",
            " (ele) \n",
            "-----------------\n",
            "\n",
            "El elemento en el tope es:233 \n",
            "-----------------\n",
            " (ele) \n",
            "-----------------\n",
            "\n",
            "-----------------\n",
            " (ele) \n",
            "-----------------\n",
            "\n",
            "-----------------\n",
            " (ele) \n",
            "-----------------\n",
            "\n",
            "-----------------\n",
            " (ele) \n",
            "-----------------\n",
            "\n",
            "-----------------\n",
            " (ele) \n",
            "-----------------\n",
            "\n",
            "-----------------\n",
            " (ele) \n",
            "-----------------\n",
            "\n",
            "La pila tiene 6 elementos\n",
            "¿La pila esta vacía?: False \n"
          ],
          "name": "stdout"
        }
      ]
    },
    {
      "cell_type": "markdown",
      "metadata": {
        "id": "h-ubrfjqIqvo"
      },
      "source": [
        "# Ejemplo de aplicacion de pila\n",
        "\n",
        "x= 4 + 5 + 6 + 3\n",
        "\n",
        "x= 4 + (5+6) + 3\n",
        "\n",
        "x= 4 + 5 + 6) + 3\n",
        "\n",
        "if (a==b) (System out println(b))\n",
        "if (a==b) (System out println(b))\n",
        "\n",
        "# Reglas\n",
        "\n",
        "### '(' --> push ('@')\n",
        "### '(' --> pop()\n",
        "Si al final del recorrido la pila esta vacía entonces la cadena es correcta.\n",
        "Si en un pop desencadena en querer sacar un elemento de la pila vacia, significa que la cadena no esta balanceada.\n"
      ]
    },
    {
      "cell_type": "markdown",
      "metadata": {
        "id": "j7Ctv3v2NM3q"
      },
      "source": [
        "# Tarea\n",
        "Hacer un programa que valide el balanceo de '{}' , '[]' , y '()' en programas de lenguaje C y Java.\n",
        "\n",
        "tomando como base el código de la clase"
      ]
    }
  ]
}