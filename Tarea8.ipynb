{
  "nbformat": 4,
  "nbformat_minor": 0,
  "metadata": {
    "colab": {
      "name": "Tarea8.ipynb",
      "provenance": [],
      "authorship_tag": "ABX9TyMf3MjSL4Ii8kQxheNzeim6",
      "include_colab_link": true
    },
    "kernelspec": {
      "name": "python3",
      "display_name": "Python 3"
    }
  },
  "cells": [
    {
      "cell_type": "markdown",
      "metadata": {
        "id": "view-in-github",
        "colab_type": "text"
      },
      "source": [
        "<a href=\"https://colab.research.google.com/github/VxctxrTL/daa_2021_1/blob/master/Tarea8.ipynb\" target=\"_parent\"><img src=\"https://colab.research.google.com/assets/colab-badge.svg\" alt=\"Open In Colab\"/></a>"
      ]
    },
    {
      "cell_type": "code",
      "metadata": {
        "id": "7eftYctSkhZU"
      },
      "source": [
        "alumno1={'id':2, 'nombre':\"Juan\" , 'carrera':\"ICO\", 'promedio':7.67}\r\n",
        "alumno2={'id':4, 'nombre':\"Rocio\" , 'carrera':\"ICI\", 'promedio':8.67}\r\n",
        "alumno3={'id':5, 'nombre':\"Diego\" , 'carrera':\"DER\", 'promedio':8.98}\r\n",
        "alumno4={'id':7, 'nombre':\"May\" , 'carrera':\"ICI\", 'promedio':9.87}\r\n",
        "alumno5={'id':9, 'nombre':\"Rob\" , 'carrera':\"IME\", 'promedio':10.00}\r\n",
        "alumno6={'id':10, 'nombre':\"Santi\" , 'carrera':\"ICO\", 'promedio':5.37}\r\n",
        "alumno7={'id':14, 'nombre':\"Moy\" , 'carrera':\"IME\", 'promedio':6.85}\r\n",
        "alumno8={'id':16, 'nombre':\"Diana\" , 'carrera':\"DER\", 'promedio':9.99}\r\n",
        "alumno9={'id':19, 'nombre':\"Zoila\" , 'carrera':\"ICO\", 'promedio':8.22}\r\n",
        "alumno10={'id':22, 'nombre':\"Armando\" , 'carrera':\"ICO\", 'promedio':7.32}\r\n",
        "\r\n",
        "bd = []\r\n",
        "bd.append(alumno1)\r\n",
        "bd.append(alumno2)\r\n",
        "bd.append(alumno3)\r\n",
        "bd.append(alumno4)\r\n",
        "bd.append(alumno5)\r\n",
        "bd.append(alumno6)\r\n",
        "bd.append(alumno7)\r\n",
        "bd.append(alumno8)\r\n",
        "bd.append(alumno9)\r\n",
        "bd.append(alumno10)\r\n",
        "\r\n",
        "def busquedaId (buscar, inicio, fin, iteraciones):\r\n",
        "  centro = int ((fin- inicio )/2)+ inicio \r\n",
        "  if centro> len (bd) -1 or inicio > fin:\r\n",
        "    return (False, iteraciones)\r\n",
        "  \r\n",
        "  if buscar > bd [centro]:\r\n",
        "    return busquedaId (buscar, centro +1, fin, iteraciones+ 1)\r\n",
        "  elif buscar < bd [centro]:\r\n",
        "    return busquedaId (buscar,inicio,centro-1,iteraciones+1)\r\n",
        "  else:\r\n",
        "    return (True, iteraciones)\r\n",
        "while True:\r\n",
        "  buscar = input (\"Indique el ID a buscar\")\r\n",
        "  if buscar == \"\":\r\n",
        "    break \r\n",
        "  \r\n",
        "  try:\r\n",
        "    buscar = int(buscar)\r\n",
        "  except:\r\n",
        "    print ('El valor tiene que ser númerico')\r\n",
        "    continue\r\n",
        "\r\n",
        "  conseguido, iteraciones= busquedaId (buscar, 0, len (bd),1)\r\n",
        "  if conseguido:\r\n",
        "    print (\"El alumno es:\" , nombre, \"De la carrera:\", carrera, \"Con promedio de: \", promedio)\r\n",
        "  else:\r\n",
        "    print (\"El valor introducido no es valido \")"
      ],
      "execution_count": null,
      "outputs": []
    }
  ]
}