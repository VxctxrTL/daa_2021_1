{
  "nbformat": 4,
  "nbformat_minor": 0,
  "metadata": {
    "colab": {
      "name": "2Dic2020.ipynb",
      "provenance": [],
      "authorship_tag": "ABX9TyOj91AAdm27c21/FRQebEhM",
      "include_colab_link": true
    },
    "kernelspec": {
      "name": "python3",
      "display_name": "Python 3"
    }
  },
  "cells": [
    {
      "cell_type": "markdown",
      "metadata": {
        "id": "view-in-github",
        "colab_type": "text"
      },
      "source": [
        "<a href=\"https://colab.research.google.com/github/VxctxrTL/daa_2021_1/blob/master/2Dic2020.ipynb\" target=\"_parent\"><img src=\"https://colab.research.google.com/assets/colab-badge.svg\" alt=\"Open In Colab\"/></a>"
      ]
    },
    {
      "cell_type": "code",
      "metadata": {
        "id": "BZn1P2Ge_ivw"
      },
      "source": [
        "def fnRecInfinita ():\n",
        "  print (\"Hola\")\n",
        "  fnRecInfinita ()"
      ],
      "execution_count": null,
      "outputs": []
    },
    {
      "cell_type": "code",
      "metadata": {
        "id": "LS65NfBM_0xN"
      },
      "source": [
        "fnRecInfinita ()"
      ],
      "execution_count": null,
      "outputs": []
    },
    {
      "cell_type": "code",
      "metadata": {
        "colab": {
          "base_uri": "https://localhost:8080/"
        },
        "id": "mmvSV6auAQo7",
        "outputId": "d88868cd-c4de-444c-de6c-2ff2705e5d58"
      },
      "source": [
        "def fnRec (x):\n",
        "  if x == 0:\n",
        "    print (\"STOP\")\n",
        "  else:\n",
        "    fnRec (x-1)\n",
        "    print (x)\n",
        "\n",
        "def main ():\n",
        "  print (\"Inicio de programa\")\n",
        "  fnRec(5)\n",
        "  print (\"Fin del Programa\")\n",
        "\n",
        "main()\n"
      ],
      "execution_count": 2,
      "outputs": [
        {
          "output_type": "stream",
          "text": [
            "Inicio de programa\n",
            "STOP\n",
            "1\n",
            "2\n",
            "3\n",
            "4\n",
            "5\n",
            "Fin del Programa\n"
          ],
          "name": "stdout"
        }
      ]
    },
    {
      "cell_type": "code",
      "metadata": {
        "colab": {
          "base_uri": "https://localhost:8080/"
        },
        "id": "IevwjRqJBbd_",
        "outputId": "462cf60d-287d-4abb-dccc-b0229f645946"
      },
      "source": [
        "def printRev (x):\n",
        "  if x > 0:\n",
        "    print (x)\n",
        "    printRev(x-1)\n",
        "\n",
        "printRev(3)\n"
      ],
      "execution_count": 3,
      "outputs": [
        {
          "output_type": "stream",
          "text": [
            "3\n",
            "2\n",
            "1\n"
          ],
          "name": "stdout"
        }
      ]
    },
    {
      "cell_type": "code",
      "metadata": {
        "colab": {
          "base_uri": "https://localhost:8080/"
        },
        "id": "mue7_4t3It80",
        "outputId": "444dc6a2-67dd-4319-ef6f-41c846e550cc"
      },
      "source": [
        "def fibonacci (n):\n",
        "  if n == 1 or n == 0:\n",
        "    return n\n",
        "  else:\n",
        "    return (fibonacci (n-1) + fibonacci(n-2))\n",
        "\n",
        "print (fibonacci (8))"
      ],
      "execution_count": 4,
      "outputs": [
        {
          "output_type": "stream",
          "text": [
            "21\n"
          ],
          "name": "stdout"
        }
      ]
    }
  ]
}