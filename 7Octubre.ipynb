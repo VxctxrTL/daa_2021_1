{
  "nbformat": 4,
  "nbformat_minor": 0,
  "metadata": {
    "colab": {
      "name": "7Octubre.ipynb",
      "provenance": [],
      "authorship_tag": "ABX9TyP6eI7PAtUajE85P6uFKPU1",
      "include_colab_link": true
    },
    "kernelspec": {
      "name": "python3",
      "display_name": "Python 3"
    }
  },
  "cells": [
    {
      "cell_type": "markdown",
      "metadata": {
        "id": "view-in-github",
        "colab_type": "text"
      },
      "source": [
        "<a href=\"https://colab.research.google.com/github/VxctxrTL/daa_2021_1/blob/master/7Octubre.ipynb\" target=\"_parent\"><img src=\"https://colab.research.google.com/assets/colab-badge.svg\" alt=\"Open In Colab\"/></a>"
      ]
    },
    {
      "cell_type": "markdown",
      "metadata": {
        "id": "lbrO7rDOStsY"
      },
      "source": [
        "# Busqueda Lineal \n",
        "Dada un conjunto de datos no ordenados, la busqueda lineal consiste en recorrer el conjunto de datos desde el inico al final, moviendose uno en uno hasta encontrar el elemento o al final del conjunto.\n",
        "\n",
        "datos = [ 4, 18, 47, 2, 34, 14, 78, 12, 48, 21, 31, 19, 1, 3, 5]\n",
        "\n",
        "# Busqueda Binaria\n",
        "Esta funciona sobre un conjunto de datos lineal ordenado.\n",
        "Consiste en dividir el conjunto en mitades y buscar en esa mitad, si el elemento buscado no esta en la mitad, preguntas si el elemento esta a la derecha o a la izquierda.\n",
        "Haces la lista igual a la mitad correspondiente y repites el proceso.\n",
        "\n",
        "L = [1, 2, 3, 4, 5, 12, 14, 18, 19, 21, 31, 34, 47, 48, 78]\n",
        "\n",
        "Derecha = longitud (L) - 1\n",
        "Izquierda = 0\n",
        "MID apuntara a la mitad del segmento de busqueda\n",
        "\n",
        "buscado: es el valor a buscar (47) \n",
        "\n",
        "1. Hacer Derecha = longitud (L) - 1\n",
        "2. Hacer Izquierda = 0\n",
        "3. Si Izquierda > Derecha significa que hay un error en los datos\n",
        "4. Calcular MID = int((Izquierda + Derecha)/2)\n",
        "5. Mientras L [MID] ! = buscado hacer\n",
        "6. Preguntar L[MID] > buscado \n",
        "      - hacer Derecha = MID \n",
        "      - de lo contrario \n",
        "        - hacer Izquierda = MID\n",
        "      - Preguntar (Derecha - Izquierda) %2\n",
        "        - MID (Izquierda + (Derecha - Izquierda/2)) + 1\n",
        "      - de lo contrario \n",
        "        - MID = (Izquierda + ((Derecha - Izquierda)/2)\n",
        "7. Return MID "
      ]
    },
    {
      "cell_type": "code",
      "metadata": {
        "id": "WnyuZQbHTkDM",
        "outputId": "b130afc0-aae6-4941-fcbf-18b06a7f641f",
        "colab": {
          "base_uri": "https://localhost:8080/"
        }
      },
      "source": [
        "\"\"\"\n",
        "Busqueda lineal \n",
        "Regresa la posicion del elemento buscado si se encuentra dentro de la lista.\n",
        "Regresa -1 si el elemento buscado no existe dentro de la lista\n",
        "\"\"\"\n",
        "\n",
        "def busq_lineal (L , buscado):\n",
        "  indice = -1\n",
        "  contador = 0 \n",
        "\n",
        "  for idx in range (len (L)):\n",
        "    if L [idx] == buscado:\n",
        "      indice = idx \n",
        "      break\n",
        "  print (f'Número de comparaciones realizadas={contador}')\n",
        "  return indice\n",
        "  \"\"\"\n",
        "  Busqueda Binaria \n",
        "  \"\"\"\n",
        "\n",
        "def busqueda_binaria (L, buscado):\n",
        "  IZQ = 0\n",
        "  DER = len(L) -1\n",
        "  MID = int ((IZQ + DER)/2)\n",
        "  if len(L) % 2 == 0:\n",
        "    MID = (DER / 2 )+1\n",
        "  else:\n",
        "    MID = DER //2\n",
        "  while (L[MID] ! = buscado):\n",
        "    if L[MID] > buscado:\n",
        "      DER = MID\n",
        "    else:\n",
        "      IZQ = MID\n",
        "    if (DER - IZQ) % 2  == 0:\n",
        "      MID= (IZQ+(DER.IZQ)//2)+1\n",
        "    else: \n",
        "      MID = IZQ + ((DER-IZQ)//2)\n",
        "  return MID\n",
        "\n",
        "\n",
        "def main ():\n",
        "    datos = [ 4,18,47,2,34,14,78,12,48,21,31,19,1,3,5]\n",
        "    dato = int(input(\"Que valor deseas buscar \"))\n",
        "    resultado = busq_lineal (datos, dato)\n",
        "    print(\"Resultado: \", resultado)\n",
        "    print (\"Busqueda lineal en una lista ordenada\")\n",
        "    datos.sort()\n",
        "    print (datos)\n",
        "    resultado = busq_lineal (datos , dato)\n",
        "    print (\"Resultado \", resultado)\n",
        "    print (\"busqueda binaria\")\n",
        "    posicion = busqueda_binaria (datos, dato )\n",
        "    print(f\"El elemento \")\n",
        "  \n",
        "main()\n",
        "\n",
        "\n",
        "\n",
        "\n"
      ],
      "execution_count": 11,
      "outputs": [
        {
          "output_type": "stream",
          "text": [
            "Que valor deseas buscar 3\n",
            "Número de comparaciones realizadas=0\n",
            "Resultado:  13\n",
            "Busqueda lineal en una lista ordenada\n",
            "[1, 2, 3, 4, 5, 12, 14, 18, 19, 21, 31, 34, 47, 48, 78]\n",
            "Número de comparaciones realizadas=0\n",
            "Resultado  2\n"
          ],
          "name": "stdout"
        }
      ]
    }
  ]
}